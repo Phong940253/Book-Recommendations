{
  "nbformat": 4,
  "nbformat_minor": 0,
  "metadata": {
    "colab": {
      "name": "Recommender System.ipynb",
      "provenance": [],
      "collapsed_sections": []
    },
    "kernelspec": {
      "name": "python3",
      "display_name": "Python 3"
    },
    "language_info": {
      "name": "python"
    }
  },
  "cells": [
    {
      "cell_type": "markdown",
      "metadata": {
        "id": "-PnE8m0AZVWb"
      },
      "source": [
        "# Data Processing"
      ]
    },
    {
      "cell_type": "code",
      "metadata": {
        "colab": {
          "base_uri": "https://localhost:8080/"
        },
        "id": "pP7bLkDAZxL4",
        "outputId": "da7ca36f-c2cf-4ddf-b8f9-c0f1621f8b99"
      },
      "source": [
        "!git clone https://github.com/zygmuntz/goodbooks-10k"
      ],
      "execution_count": 1,
      "outputs": [
        {
          "output_type": "stream",
          "name": "stdout",
          "text": [
            "fatal: destination path 'goodbooks-10k' already exists and is not an empty directory.\n"
          ]
        }
      ]
    },
    {
      "cell_type": "code",
      "metadata": {
        "colab": {
          "base_uri": "https://localhost:8080/"
        },
        "id": "AGK1eT6Gam6n",
        "outputId": "0d5af4d5-e154-47f1-88a6-f79854bb3afc"
      },
      "source": [
        "%cd goodbooks-10k/"
      ],
      "execution_count": 2,
      "outputs": [
        {
          "output_type": "stream",
          "name": "stdout",
          "text": [
            "/content/goodbooks-10k\n"
          ]
        }
      ]
    },
    {
      "cell_type": "markdown",
      "metadata": {
        "id": "M6iFIPj4biEw"
      },
      "source": [
        "# EDA"
      ]
    },
    {
      "cell_type": "code",
      "metadata": {
        "colab": {
          "base_uri": "https://localhost:8080/"
        },
        "id": "1EYdTPZ_ZzNx",
        "outputId": "9a9e7bc3-6425-49e4-eefa-739e84a474be"
      },
      "source": [
        "import random\n",
        "random.seed(2001)\n",
        "\n",
        "import pandas as pd\n",
        "pd.set_option('display.max_columns', 20)\n",
        "ratings = pd.read_csv(\"./ratings.csv\")\n",
        "books = pd.read_csv(\"./books.csv\")\n",
        "print(\"List column ratings: \", ratings.columns, \"\\nList column books\", books.columns)\n",
        "print(ratings.head())\n",
        "print(books.head())\n",
        "print(books.describe())"
      ],
      "execution_count": 3,
      "outputs": [
        {
          "output_type": "stream",
          "name": "stdout",
          "text": [
            "List column ratings:  Index(['user_id', 'book_id', 'rating'], dtype='object') \n",
            "List column books Index(['book_id', 'goodreads_book_id', 'best_book_id', 'work_id',\n",
            "       'books_count', 'isbn', 'isbn13', 'authors', 'original_publication_year',\n",
            "       'original_title', 'title', 'language_code', 'average_rating',\n",
            "       'ratings_count', 'work_ratings_count', 'work_text_reviews_count',\n",
            "       'ratings_1', 'ratings_2', 'ratings_3', 'ratings_4', 'ratings_5',\n",
            "       'image_url', 'small_image_url'],\n",
            "      dtype='object')\n",
            "   user_id  book_id  rating\n",
            "0        1      258       5\n",
            "1        2     4081       4\n",
            "2        2      260       5\n",
            "3        2     9296       5\n",
            "4        2     2318       3\n",
            "   book_id  goodreads_book_id  best_book_id  work_id  books_count       isbn  \\\n",
            "0        1            2767052       2767052  2792775          272  439023483   \n",
            "1        2                  3             3  4640799          491  439554934   \n",
            "2        3              41865         41865  3212258          226  316015849   \n",
            "3        4               2657          2657  3275794          487   61120081   \n",
            "4        5               4671          4671   245494         1356  743273567   \n",
            "\n",
            "         isbn13                      authors  original_publication_year  \\\n",
            "0  9.780439e+12              Suzanne Collins                     2008.0   \n",
            "1  9.780440e+12  J.K. Rowling, Mary GrandPré                     1997.0   \n",
            "2  9.780316e+12              Stephenie Meyer                     2005.0   \n",
            "3  9.780061e+12                   Harper Lee                     1960.0   \n",
            "4  9.780743e+12          F. Scott Fitzgerald                     1925.0   \n",
            "\n",
            "                             original_title  ... ratings_count  \\\n",
            "0                          The Hunger Games  ...       4780653   \n",
            "1  Harry Potter and the Philosopher's Stone  ...       4602479   \n",
            "2                                  Twilight  ...       3866839   \n",
            "3                     To Kill a Mockingbird  ...       3198671   \n",
            "4                          The Great Gatsby  ...       2683664   \n",
            "\n",
            "  work_ratings_count  work_text_reviews_count  ratings_1  ratings_2  \\\n",
            "0            4942365                   155254      66715     127936   \n",
            "1            4800065                    75867      75504     101676   \n",
            "2            3916824                    95009     456191     436802   \n",
            "3            3340896                    72586      60427     117415   \n",
            "4            2773745                    51992      86236     197621   \n",
            "\n",
            "   ratings_3  ratings_4  ratings_5  \\\n",
            "0     560092    1481305    2706317   \n",
            "1     455024    1156318    3011543   \n",
            "2     793319     875073    1355439   \n",
            "3     446835    1001952    1714267   \n",
            "4     606158     936012     947718   \n",
            "\n",
            "                                           image_url  \\\n",
            "0  https://images.gr-assets.com/books/1447303603m...   \n",
            "1  https://images.gr-assets.com/books/1474154022m...   \n",
            "2  https://images.gr-assets.com/books/1361039443m...   \n",
            "3  https://images.gr-assets.com/books/1361975680m...   \n",
            "4  https://images.gr-assets.com/books/1490528560m...   \n",
            "\n",
            "                                     small_image_url  \n",
            "0  https://images.gr-assets.com/books/1447303603s...  \n",
            "1  https://images.gr-assets.com/books/1474154022s...  \n",
            "2  https://images.gr-assets.com/books/1361039443s...  \n",
            "3  https://images.gr-assets.com/books/1361975680s...  \n",
            "4  https://images.gr-assets.com/books/1490528560s...  \n",
            "\n",
            "[5 rows x 23 columns]\n",
            "           book_id  goodreads_book_id  best_book_id       work_id  \\\n",
            "count  10000.00000       1.000000e+04  1.000000e+04  1.000000e+04   \n",
            "mean    5000.50000       5.264697e+06  5.471214e+06  8.646183e+06   \n",
            "std     2886.89568       7.575462e+06  7.827330e+06  1.175106e+07   \n",
            "min        1.00000       1.000000e+00  1.000000e+00  8.700000e+01   \n",
            "25%     2500.75000       4.627575e+04  4.791175e+04  1.008841e+06   \n",
            "50%     5000.50000       3.949655e+05  4.251235e+05  2.719524e+06   \n",
            "75%     7500.25000       9.382225e+06  9.636112e+06  1.451775e+07   \n",
            "max    10000.00000       3.328864e+07  3.553423e+07  5.639960e+07   \n",
            "\n",
            "        books_count        isbn13  original_publication_year  average_rating  \\\n",
            "count  10000.000000  9.415000e+03                9979.000000    10000.000000   \n",
            "mean      75.712700  9.755044e+12                1981.987674        4.002191   \n",
            "std      170.470728  4.428619e+11                 152.576665        0.254427   \n",
            "min        1.000000  1.951703e+08               -1750.000000        2.470000   \n",
            "25%       23.000000  9.780316e+12                1990.000000        3.850000   \n",
            "50%       40.000000  9.780452e+12                2004.000000        4.020000   \n",
            "75%       67.000000  9.780831e+12                2011.000000        4.180000   \n",
            "max     3455.000000  9.790008e+12                2017.000000        4.820000   \n",
            "\n",
            "       ratings_count  work_ratings_count  work_text_reviews_count  \\\n",
            "count   1.000000e+04        1.000000e+04             10000.000000   \n",
            "mean    5.400124e+04        5.968732e+04              2919.955300   \n",
            "std     1.573700e+05        1.678038e+05              6124.378132   \n",
            "min     2.716000e+03        5.510000e+03                 3.000000   \n",
            "25%     1.356875e+04        1.543875e+04               694.000000   \n",
            "50%     2.115550e+04        2.383250e+04              1402.000000   \n",
            "75%     4.105350e+04        4.591500e+04              2744.250000   \n",
            "max     4.780653e+06        4.942365e+06            155254.000000   \n",
            "\n",
            "           ratings_1      ratings_2      ratings_3     ratings_4     ratings_5  \n",
            "count   10000.000000   10000.000000   10000.000000  1.000000e+04  1.000000e+04  \n",
            "mean     1345.040600    3110.885000   11475.893800  1.996570e+04  2.378981e+04  \n",
            "std      6635.626263    9717.123578   28546.449183  5.144736e+04  7.976889e+04  \n",
            "min        11.000000      30.000000     323.000000  7.500000e+02  7.540000e+02  \n",
            "25%       196.000000     656.000000    3112.000000  5.405750e+03  5.334000e+03  \n",
            "50%       391.000000    1163.000000    4894.000000  8.269500e+03  8.836000e+03  \n",
            "75%       885.000000    2353.250000    9287.000000  1.602350e+04  1.730450e+04  \n",
            "max    456191.000000  436802.000000  793319.000000  1.481305e+06  3.011543e+06  \n"
          ]
        }
      ]
    },
    {
      "cell_type": "code",
      "metadata": {
        "colab": {
          "base_uri": "https://localhost:8080/",
          "height": 851
        },
        "id": "p4XAVvDKOGRe",
        "outputId": "0998277a-ca31-448d-93d5-8fd485ecfddd"
      },
      "source": [
        "print(ratings.shape)\n",
        "ratings.iloc[:25]"
      ],
      "execution_count": 4,
      "outputs": [
        {
          "output_type": "stream",
          "name": "stdout",
          "text": [
            "(5976479, 3)\n"
          ]
        },
        {
          "output_type": "execute_result",
          "data": {
            "text/html": [
              "<div>\n",
              "<style scoped>\n",
              "    .dataframe tbody tr th:only-of-type {\n",
              "        vertical-align: middle;\n",
              "    }\n",
              "\n",
              "    .dataframe tbody tr th {\n",
              "        vertical-align: top;\n",
              "    }\n",
              "\n",
              "    .dataframe thead th {\n",
              "        text-align: right;\n",
              "    }\n",
              "</style>\n",
              "<table border=\"1\" class=\"dataframe\">\n",
              "  <thead>\n",
              "    <tr style=\"text-align: right;\">\n",
              "      <th></th>\n",
              "      <th>user_id</th>\n",
              "      <th>book_id</th>\n",
              "      <th>rating</th>\n",
              "    </tr>\n",
              "  </thead>\n",
              "  <tbody>\n",
              "    <tr>\n",
              "      <th>0</th>\n",
              "      <td>1</td>\n",
              "      <td>258</td>\n",
              "      <td>5</td>\n",
              "    </tr>\n",
              "    <tr>\n",
              "      <th>1</th>\n",
              "      <td>2</td>\n",
              "      <td>4081</td>\n",
              "      <td>4</td>\n",
              "    </tr>\n",
              "    <tr>\n",
              "      <th>2</th>\n",
              "      <td>2</td>\n",
              "      <td>260</td>\n",
              "      <td>5</td>\n",
              "    </tr>\n",
              "    <tr>\n",
              "      <th>3</th>\n",
              "      <td>2</td>\n",
              "      <td>9296</td>\n",
              "      <td>5</td>\n",
              "    </tr>\n",
              "    <tr>\n",
              "      <th>4</th>\n",
              "      <td>2</td>\n",
              "      <td>2318</td>\n",
              "      <td>3</td>\n",
              "    </tr>\n",
              "    <tr>\n",
              "      <th>5</th>\n",
              "      <td>2</td>\n",
              "      <td>26</td>\n",
              "      <td>4</td>\n",
              "    </tr>\n",
              "    <tr>\n",
              "      <th>6</th>\n",
              "      <td>2</td>\n",
              "      <td>315</td>\n",
              "      <td>3</td>\n",
              "    </tr>\n",
              "    <tr>\n",
              "      <th>7</th>\n",
              "      <td>2</td>\n",
              "      <td>33</td>\n",
              "      <td>4</td>\n",
              "    </tr>\n",
              "    <tr>\n",
              "      <th>8</th>\n",
              "      <td>2</td>\n",
              "      <td>301</td>\n",
              "      <td>5</td>\n",
              "    </tr>\n",
              "    <tr>\n",
              "      <th>9</th>\n",
              "      <td>2</td>\n",
              "      <td>2686</td>\n",
              "      <td>5</td>\n",
              "    </tr>\n",
              "    <tr>\n",
              "      <th>10</th>\n",
              "      <td>2</td>\n",
              "      <td>3753</td>\n",
              "      <td>5</td>\n",
              "    </tr>\n",
              "    <tr>\n",
              "      <th>11</th>\n",
              "      <td>2</td>\n",
              "      <td>8519</td>\n",
              "      <td>5</td>\n",
              "    </tr>\n",
              "    <tr>\n",
              "      <th>12</th>\n",
              "      <td>4</td>\n",
              "      <td>70</td>\n",
              "      <td>4</td>\n",
              "    </tr>\n",
              "    <tr>\n",
              "      <th>13</th>\n",
              "      <td>4</td>\n",
              "      <td>264</td>\n",
              "      <td>3</td>\n",
              "    </tr>\n",
              "    <tr>\n",
              "      <th>14</th>\n",
              "      <td>4</td>\n",
              "      <td>388</td>\n",
              "      <td>4</td>\n",
              "    </tr>\n",
              "    <tr>\n",
              "      <th>15</th>\n",
              "      <td>4</td>\n",
              "      <td>18</td>\n",
              "      <td>5</td>\n",
              "    </tr>\n",
              "    <tr>\n",
              "      <th>16</th>\n",
              "      <td>4</td>\n",
              "      <td>27</td>\n",
              "      <td>5</td>\n",
              "    </tr>\n",
              "    <tr>\n",
              "      <th>17</th>\n",
              "      <td>4</td>\n",
              "      <td>21</td>\n",
              "      <td>5</td>\n",
              "    </tr>\n",
              "    <tr>\n",
              "      <th>18</th>\n",
              "      <td>4</td>\n",
              "      <td>2</td>\n",
              "      <td>5</td>\n",
              "    </tr>\n",
              "    <tr>\n",
              "      <th>19</th>\n",
              "      <td>4</td>\n",
              "      <td>23</td>\n",
              "      <td>5</td>\n",
              "    </tr>\n",
              "    <tr>\n",
              "      <th>20</th>\n",
              "      <td>4</td>\n",
              "      <td>24</td>\n",
              "      <td>5</td>\n",
              "    </tr>\n",
              "    <tr>\n",
              "      <th>21</th>\n",
              "      <td>4</td>\n",
              "      <td>964</td>\n",
              "      <td>4</td>\n",
              "    </tr>\n",
              "    <tr>\n",
              "      <th>22</th>\n",
              "      <td>4</td>\n",
              "      <td>103</td>\n",
              "      <td>5</td>\n",
              "    </tr>\n",
              "    <tr>\n",
              "      <th>23</th>\n",
              "      <td>4</td>\n",
              "      <td>255</td>\n",
              "      <td>2</td>\n",
              "    </tr>\n",
              "    <tr>\n",
              "      <th>24</th>\n",
              "      <td>4</td>\n",
              "      <td>35</td>\n",
              "      <td>5</td>\n",
              "    </tr>\n",
              "  </tbody>\n",
              "</table>\n",
              "</div>"
            ],
            "text/plain": [
              "    user_id  book_id  rating\n",
              "0         1      258       5\n",
              "1         2     4081       4\n",
              "2         2      260       5\n",
              "3         2     9296       5\n",
              "4         2     2318       3\n",
              "5         2       26       4\n",
              "6         2      315       3\n",
              "7         2       33       4\n",
              "8         2      301       5\n",
              "9         2     2686       5\n",
              "10        2     3753       5\n",
              "11        2     8519       5\n",
              "12        4       70       4\n",
              "13        4      264       3\n",
              "14        4      388       4\n",
              "15        4       18       5\n",
              "16        4       27       5\n",
              "17        4       21       5\n",
              "18        4        2       5\n",
              "19        4       23       5\n",
              "20        4       24       5\n",
              "21        4      964       4\n",
              "22        4      103       5\n",
              "23        4      255       2\n",
              "24        4       35       5"
            ]
          },
          "metadata": {},
          "execution_count": 4
        }
      ]
    },
    {
      "cell_type": "code",
      "metadata": {
        "colab": {
          "base_uri": "https://localhost:8080/"
        },
        "id": "Qr44lPYyOa9I",
        "outputId": "827c43fb-8fc0-4d17-db89-37845ec4568a"
      },
      "source": [
        "print(ratings.shape)\n",
        "print(ratings.describe())"
      ],
      "execution_count": 5,
      "outputs": [
        {
          "output_type": "stream",
          "name": "stdout",
          "text": [
            "(5976479, 3)\n",
            "            user_id       book_id        rating\n",
            "count  5.976479e+06  5.976479e+06  5.976479e+06\n",
            "mean   2.622446e+04  2.006477e+03  3.919866e+00\n",
            "std    1.541323e+04  2.468499e+03  9.910868e-01\n",
            "min    1.000000e+00  1.000000e+00  1.000000e+00\n",
            "25%    1.281300e+04  1.980000e+02  3.000000e+00\n",
            "50%    2.593800e+04  8.850000e+02  4.000000e+00\n",
            "75%    3.950900e+04  2.973000e+03  5.000000e+00\n",
            "max    5.342400e+04  1.000000e+04  5.000000e+00\n"
          ]
        }
      ]
    },
    {
      "cell_type": "code",
      "metadata": {
        "colab": {
          "base_uri": "https://localhost:8080/"
        },
        "id": "3A25h-GPCFTC",
        "outputId": "0167f889-bfbe-4a3a-d691-16eaed1d5598"
      },
      "source": [
        "!pip install scikit-surprise"
      ],
      "execution_count": 6,
      "outputs": [
        {
          "output_type": "stream",
          "name": "stdout",
          "text": [
            "Requirement already satisfied: scikit-surprise in /usr/local/lib/python3.7/dist-packages (1.1.1)\n",
            "Requirement already satisfied: six>=1.10.0 in /usr/local/lib/python3.7/dist-packages (from scikit-surprise) (1.15.0)\n",
            "Requirement already satisfied: scipy>=1.0.0 in /usr/local/lib/python3.7/dist-packages (from scikit-surprise) (1.4.1)\n",
            "Requirement already satisfied: joblib>=0.11 in /usr/local/lib/python3.7/dist-packages (from scikit-surprise) (1.1.0)\n",
            "Requirement already satisfied: numpy>=1.11.2 in /usr/local/lib/python3.7/dist-packages (from scikit-surprise) (1.19.5)\n"
          ]
        }
      ]
    },
    {
      "cell_type": "code",
      "metadata": {
        "colab": {
          "base_uri": "https://localhost:8080/"
        },
        "id": "EOMrTyYGLY58",
        "outputId": "408f8418-7eb5-4854-f59e-86e103ffb69c"
      },
      "source": [
        "from surprise.dataset import Dataset\n",
        "from surprise.reader import Reader\n",
        "from sklearn.model_selection import train_test_split\n",
        "\n",
        "train_data, test_data = train_test_split(ratings, test_size=0.20, random_state=2001)\n",
        "print('Training data shape: ', train_data.shape)\n",
        "print('Testing data shape: ', test_data.shape)\n",
        "test_data.head()\n",
        "\n",
        "reader = Reader(rating_scale=(1,5))\n",
        "train_dataset = Dataset.load_from_df(train_data, reader)\n",
        "test_dataset = Dataset.load_from_df(test_data, reader)\n",
        "dataset = Dataset.load_from_df(ratings, reader)"
      ],
      "execution_count": 7,
      "outputs": [
        {
          "output_type": "stream",
          "name": "stdout",
          "text": [
            "Training data shape:  (4781183, 3)\n",
            "Testing data shape:  (1195296, 3)\n"
          ]
        }
      ]
    },
    {
      "cell_type": "markdown",
      "metadata": {
        "id": "XHl8QRcWCC_s"
      },
      "source": [
        "# Training"
      ]
    },
    {
      "cell_type": "code",
      "metadata": {
        "colab": {
          "base_uri": "https://localhost:8080/"
        },
        "id": "JCMOCqj_0LbA",
        "outputId": "b6ae7003-31b5-4df6-a562-8b6de6805b2a"
      },
      "source": [
        "from surprise.prediction_algorithms.random_pred import NormalPredictor\n",
        "from surprise import accuracy\n",
        "from surprise.model_selection import train_test_split\n",
        "temp_train_dataset, temp_test_dataset = train_test_split(dataset, test_size=0.20, random_state=2001)\n",
        "\n",
        "native = NormalPredictor()\n",
        "native.fit(temp_train_dataset)\n",
        "\n",
        "predictions = native.test(temp_test_dataset)\n",
        "rmse = accuracy.rmse(predictions, verbose=True)\n",
        "print('Root mean square error on Random: ', rmse)"
      ],
      "execution_count": 8,
      "outputs": [
        {
          "output_type": "stream",
          "name": "stdout",
          "text": [
            "RMSE: 1.3248\n",
            "Root mean square error on Random:  1.3247790370603179\n"
          ]
        }
      ]
    },
    {
      "cell_type": "code",
      "metadata": {
        "colab": {
          "base_uri": "https://localhost:8080/"
        },
        "id": "-RQt3qfW0Rxx",
        "outputId": "267c8d47-5529-4c0e-9201-e56388e29b87"
      },
      "source": [
        "# trying with the training data after preprocessing \n",
        "from surprise import KNNWithMeans\n",
        "from surprise.model_selection import GridSearchCV\n",
        "\n",
        "sim_options = {\n",
        "    \"name\": [\"msd\", \"cosine\"],\n",
        "    \"min_support\": [3, 4, 5],\n",
        "    \"user_based\": [False],\n",
        "}\n",
        "\n",
        "\n",
        "param_grid = {\"sim_options\": sim_options}\n",
        "grid_Search = GridSearchCV(KNNWithMeans, param_grid, measures=[\"rmse\", \"mae\"])\n",
        "grid_Search.fit(train_dataset)"
      ],
      "execution_count": null,
      "outputs": [
        {
          "output_type": "stream",
          "name": "stdout",
          "text": [
            "Computing the msd similarity matrix...\n",
            "Done computing similarity matrix.\n",
            "Computing the msd similarity matrix...\n",
            "Done computing similarity matrix.\n",
            "Computing the msd similarity matrix...\n",
            "Done computing similarity matrix.\n",
            "Computing the msd similarity matrix...\n",
            "Done computing similarity matrix.\n",
            "Computing the msd similarity matrix...\n",
            "Done computing similarity matrix.\n",
            "Computing the msd similarity matrix...\n",
            "Done computing similarity matrix.\n",
            "Computing the msd similarity matrix...\n",
            "Done computing similarity matrix.\n",
            "Computing the msd similarity matrix...\n",
            "Done computing similarity matrix.\n",
            "Computing the msd similarity matrix...\n",
            "Done computing similarity matrix.\n",
            "Computing the msd similarity matrix...\n",
            "Done computing similarity matrix.\n",
            "Computing the msd similarity matrix...\n",
            "Done computing similarity matrix.\n",
            "Computing the msd similarity matrix...\n",
            "Done computing similarity matrix.\n",
            "Computing the msd similarity matrix...\n",
            "Done computing similarity matrix.\n",
            "Computing the msd similarity matrix...\n",
            "Done computing similarity matrix.\n",
            "Computing the msd similarity matrix...\n",
            "Done computing similarity matrix.\n",
            "Computing the cosine similarity matrix...\n"
          ]
        }
      ]
    },
    {
      "cell_type": "code",
      "metadata": {
        "id": "1M-f18c2Xxvf"
      },
      "source": [
        "print(grid_Search.best_score[\"rmse\"])\n",
        "print(grid_Search.best_params[\"rmse\"])\n",
        "results_df = pd.DataFrame.from_dict(grid_Search.cv_results)\n",
        "print(results_df)"
      ],
      "execution_count": null,
      "outputs": []
    },
    {
      "cell_type": "code",
      "metadata": {
        "id": "OESizmh0X_lo"
      },
      "source": [
        "from surprise import SVD\n",
        "\n",
        "param_grid = {'n_epochs': [5, 10], \n",
        "              'lr_all': [0.002, 0.005],\n",
        "              'reg_all': [0.4, 0.6],\n",
        "              'random_state': [2001]}\n",
        "grid_Search_SVD = GridSearchCV(SVD, param_grid, measures=['rmse', 'mae'], n_jobs=2)\n",
        "grid_Search_SVD.fit(train_dataset)"
      ],
      "execution_count": null,
      "outputs": []
    },
    {
      "cell_type": "code",
      "metadata": {
        "id": "FKSYdReWYlKL"
      },
      "source": [
        "print(gs.best_score[\"rmse\"])\n",
        "print(gs.best_params[\"rmse\"])\n",
        "results_df = pd.DataFrame.from_dict(gs.cv_results)\n",
        "print(results_df)"
      ],
      "execution_count": null,
      "outputs": []
    },
    {
      "cell_type": "code",
      "metadata": {
        "id": "wpNv2tEhJ2k3"
      },
      "source": [
        "preds_KMeans = clusterer_KMeans.predict(book_ratings_training)\n",
        "preds_Kmeans_Validating = clusterer_KMeans.predict(book_ratings_validating)\n",
        "from sklearn.metrics import silhouette_score\n",
        "kmeans_score_training = silhouette_score(book_ratings_training, preds_KMeans)\n",
        "print(\"Train score: \", kmeans_score, \" with k = \", i)\n",
        "kmeans_score_validating = silhouette_score(book_ratings_validating, preds_Kmeans_Validating)\n",
        "print(\"Valid score: \", kmeans_score_validating, \" with k = \", i)"
      ],
      "execution_count": null,
      "outputs": []
    },
    {
      "cell_type": "code",
      "metadata": {
        "colab": {
          "base_uri": "https://localhost:8080/",
          "height": 485
        },
        "id": "WCWUtPkocrb8",
        "outputId": "a4c902cc-1b40-408b-d614-491352678c86"
      },
      "source": [
        "import matplotlib.pyplot as plt\n",
        "u_labels = np.unique(preds_Kmeans_Validating)\n",
        "\n",
        "row_size, column_size = 2, 4\n",
        "fix, ax = plt.subplots(row_size, column_size, figsize=(column_size*4, row_size*4))\n",
        "for i in range(row_size):\n",
        "  for j in range(column_size):\n",
        "    for k in u_labels:\n",
        "      index = i * row_size + j\n",
        "      ax[i][j].scatter(book_ratings_validating.to_numpy()[preds_Kmeans_Validating == k , index] , book_ratings_validating.to_numpy()[preds_Kmeans_Validating == k , index + 1] , label = k)\n",
        "      ax[i][j].set_title(f'feature {index} vs feature {index + 1}')\n",
        "      # ax[i][j].axis('off')\n",
        "      ax[i][j].legend()\n",
        "plt.tight_layout()\n",
        "plt.show()"
      ],
      "execution_count": null,
      "outputs": [
        {
          "output_type": "display_data",
          "data": {
            "image/png": "[encoded data removed]",
            "text/plain": [
              "<Figure size 1152x576 with 8 Axes>"
            ]
          },
          "metadata": {
            "needs_background": "light"
          }
        }
      ]
    },
    {
      "cell_type": "code",
      "metadata": {
        "colab": {
          "base_uri": "https://localhost:8080/",
          "height": 394
        },
        "id": "DEiasUxP0diV",
        "outputId": "f3f7ad76-62a2-4a36-fdc2-ec567e8ab08a"
      },
      "source": [
        "indices = book_ratings_training.index\n",
        "preds = pd.DataFrame(data=preds_KMeans, columns=['cluster']).set_index(indices)\n",
        "preds.head(10)"
      ],
      "execution_count": null,
      "outputs": [
        {
          "output_type": "execute_result",
          "data": {
            "text/html": [
              "<div>\n",
              "<style scoped>\n",
              "    .dataframe tbody tr th:only-of-type {\n",
              "        vertical-align: middle;\n",
              "    }\n",
              "\n",
              "    .dataframe tbody tr th {\n",
              "        vertical-align: top;\n",
              "    }\n",
              "\n",
              "    .dataframe thead th {\n",
              "        text-align: right;\n",
              "    }\n",
              "</style>\n",
              "<table border=\"1\" class=\"dataframe\">\n",
              "  <thead>\n",
              "    <tr style=\"text-align: right;\">\n",
              "      <th></th>\n",
              "      <th>cluster</th>\n",
              "    </tr>\n",
              "    <tr>\n",
              "      <th>user_id</th>\n",
              "      <th></th>\n",
              "    </tr>\n",
              "  </thead>\n",
              "  <tbody>\n",
              "    <tr>\n",
              "      <th>35338</th>\n",
              "      <td>0</td>\n",
              "    </tr>\n",
              "    <tr>\n",
              "      <th>4509</th>\n",
              "      <td>0</td>\n",
              "    </tr>\n",
              "    <tr>\n",
              "      <th>49507</th>\n",
              "      <td>1</td>\n",
              "    </tr>\n",
              "    <tr>\n",
              "      <th>29806</th>\n",
              "      <td>5</td>\n",
              "    </tr>\n",
              "    <tr>\n",
              "      <th>14183</th>\n",
              "      <td>5</td>\n",
              "    </tr>\n",
              "    <tr>\n",
              "      <th>29655</th>\n",
              "      <td>5</td>\n",
              "    </tr>\n",
              "    <tr>\n",
              "      <th>41000</th>\n",
              "      <td>2</td>\n",
              "    </tr>\n",
              "    <tr>\n",
              "      <th>2018</th>\n",
              "      <td>6</td>\n",
              "    </tr>\n",
              "    <tr>\n",
              "      <th>23074</th>\n",
              "      <td>2</td>\n",
              "    </tr>\n",
              "    <tr>\n",
              "      <th>15943</th>\n",
              "      <td>0</td>\n",
              "    </tr>\n",
              "  </tbody>\n",
              "</table>\n",
              "</div>"
            ],
            "text/plain": [
              "         cluster\n",
              "user_id         \n",
              "35338          0\n",
              "4509           0\n",
              "49507          1\n",
              "29806          5\n",
              "14183          5\n",
              "29655          5\n",
              "41000          2\n",
              "2018           6\n",
              "23074          2\n",
              "15943          0"
            ]
          },
          "metadata": {},
          "execution_count": 60
        }
      ]
    },
    {
      "cell_type": "code",
      "metadata": {
        "id": "MKNfFuYq0lao"
      },
      "source": [
        "# get a list of the highest-rated books for each cluster\n",
        "def get_cluster_favorites(cluster_number):\n",
        "    # create a list of cluster members\n",
        "    cluster_membership = preds.index[preds['cluster'] == cluster_number].tolist()\n",
        "    # build a dataframe of that cluster's book ratings\n",
        "    cluster_ratings = user_book_rating.loc[cluster_membership]\n",
        "    # drop books that have fewer than 10 ratings by cluster members\n",
        "    cluster_ratings = cluster_ratings.dropna(axis='columns', thresh=10)\n",
        "    # find the cluster's mean rating overal and for each book\n",
        "    means = cluster_ratings.mean(axis=0)\n",
        "    # sort books by mean rating\n",
        "    favorites = means.sort_values(ascending=False)\n",
        "    return favorites\n",
        "\n",
        "# for each cluster, determine the overall mean rating cluster members have given books\n",
        "def get_cluster_mean(cluster_number):\n",
        "    # create a list of cluster members\n",
        "    cluster_membership = preds.index[preds['cluster'] == cluster_number].tolist()\n",
        "    # create a version of the original ratings dataset that only includes cluster members\n",
        "    cluster_ratings = ratings[ratings['user_id'].isin(cluster_membership)]\n",
        "    # get the mean rating\n",
        "    return cluster_ratings['rating'].mean()"
      ],
      "execution_count": null,
      "outputs": []
    },
    {
      "cell_type": "code",
      "metadata": {
        "colab": {
          "base_uri": "https://localhost:8080/"
        },
        "id": "OzvJ414q0pTC",
        "outputId": "afaa6209-b418-4ec5-b453-34c6c3a6b27d"
      },
      "source": [
        "cluster0_books_storted = get_cluster_favorites(0)\n",
        "cluster0_mean = get_cluster_mean(0)\n",
        "\n",
        "print('The cluster 0 mean is:', cluster0_mean)\n",
        "cluster0_books_storted[0:10]"
      ],
      "execution_count": null,
      "outputs": [
        {
          "output_type": "stream",
          "name": "stdout",
          "text": [
            "The cluster 0 mean is: 3.9026845728059274\n"
          ]
        },
        {
          "output_type": "execute_result",
          "data": {
            "text/plain": [
              "title\n",
              "Holy Bible: New International Version                                 5.000000\n",
              "The Book of Mormon: Another Testament of Jesus Christ                 5.000000\n",
              "The Dot                                                               4.900000\n",
              "Miss Rumphius                                                         4.857143\n",
              "The Complete Novels                                                   4.818182\n",
              "The Little Mouse, the Red Ripe Strawberry, and the Big Hungry Bear    4.800000\n",
              "Flow: The Psychology of Optimal Experience                            4.800000\n",
              "The Cat in the Hat and Other Dr. Seuss Favorites                      4.800000\n",
              "Just Mercy: A Story of Justice and Redemption                         4.758621\n",
              "The Gashlycrumb Tinies (The Vinegar Works, #1)                        4.750000\n",
              "dtype: float64"
            ]
          },
          "metadata": {},
          "execution_count": 62
        }
      ]
    },
    {
      "cell_type": "code",
      "metadata": {
        "colab": {
          "base_uri": "https://localhost:8080/"
        },
        "id": "PIqnjurS0sHL",
        "outputId": "e8197402-f3c1-4b30-d673-62068e69cadc"
      },
      "source": [
        "cluster1_books_storted = get_cluster_favorites(1)\n",
        "cluster1_mean = get_cluster_mean(1)\n",
        "\n",
        "print('The cluster 1 mean is:', cluster1_mean)\n",
        "cluster1_books_storted[0:10]"
      ],
      "execution_count": null,
      "outputs": [
        {
          "output_type": "stream",
          "name": "stdout",
          "text": [
            "The cluster 1 mean is: 3.8983046040949527\n"
          ]
        },
        {
          "output_type": "execute_result",
          "data": {
            "text/plain": [
              "title\n",
              "Harry Potter Boxed Set, Books 1-5 (Harry Potter, #1-5)               5.000000\n",
              "There's Treasure Everywhere: A Calvin and Hobbes Collection          4.913043\n",
              "Harry Potter Collection (Harry Potter, #1-6)                         4.888889\n",
              "Harry Potter Page to Screen: The Complete Filmmaking Journey         4.882353\n",
              "The Days Are Just Packed: A Calvin and Hobbes Collection             4.851852\n",
              "It's a Magical World: A Calvin and Hobbes Collection                 4.843750\n",
              "Jesus the Christ                                                     4.825000\n",
              "Book of Mormon, Doctrine and Covenants, Pearl of Great Price         4.822222\n",
              "Saga, Vol. 5 (Saga, #5)                                              4.818182\n",
              "The Authoritative Calvin and Hobbes: A Calvin and Hobbes Treasury    4.812500\n",
              "dtype: float64"
            ]
          },
          "metadata": {},
          "execution_count": 63
        }
      ]
    },
    {
      "cell_type": "code",
      "metadata": {
        "colab": {
          "base_uri": "https://localhost:8080/"
        },
        "id": "wLKkXtYJ0xPT",
        "outputId": "bf8260fc-dee0-4aea-9c87-59ef83c8c150"
      },
      "source": [
        "cluster2_books_storted = get_cluster_favorites(2)\n",
        "cluster2_mean = get_cluster_mean(2)\n",
        "\n",
        "print('The cluster 2 mean is:', cluster2_mean)\n",
        "cluster2_books_storted[0:10]"
      ],
      "execution_count": null,
      "outputs": [
        {
          "output_type": "stream",
          "name": "stdout",
          "text": [
            "The cluster 2 mean is: 4.018070766638584\n"
          ]
        },
        {
          "output_type": "execute_result",
          "data": {
            "text/plain": [
              "title\n",
              "The Book of Mormon: Another Testament of Jesus Christ                                               5.000000\n",
              "A Voice in the Wind (Mark of the Lion, #1)                                                          4.909091\n",
              "Short Stories from Hogwarts of Heroism, Hardship and Dangerous Hobbies (Pottermore Presents, #1)    4.900000\n",
              "Harry Potter Boxset (Harry Potter, #1-7)                                                            4.876190\n",
              "Saga, Vol. 3 (Saga, #3)                                                                             4.875000\n",
              "The Way of Kings (The Stormlight Archive, #1)                                                       4.870968\n",
              "A Court of Mist and Fury (A Court of Thorns and Roses, #2)                                          4.827586\n",
              "Tsubasa: RESERVoir CHRoNiCLE, Vol. 01                                                               4.818182\n",
              "Rock Chick Reckoning (Rock Chick, #6)                                                               4.818182\n",
              "Acheron (Dark-Hunter #14)                                                                           4.809524\n",
              "dtype: float64"
            ]
          },
          "metadata": {},
          "execution_count": 64
        }
      ]
    },
    {
      "cell_type": "code",
      "metadata": {
        "colab": {
          "base_uri": "https://localhost:8080/"
        },
        "id": "ZdEut74P0zKc",
        "outputId": "3bbcb8fa-b67e-4deb-b544-cefff0c01b71"
      },
      "source": [
        "cluster3_books_storted = get_cluster_favorites(3)\n",
        "cluster3_mean = get_cluster_mean(3)\n",
        "\n",
        "print('The cluster 3 mean is:', cluster3_mean)\n",
        "cluster3_books_storted[0:10]"
      ],
      "execution_count": null,
      "outputs": [
        {
          "output_type": "stream",
          "name": "stdout",
          "text": [
            "The cluster 3 mean is: 3.931263866941212\n"
          ]
        },
        {
          "output_type": "execute_result",
          "data": {
            "text/plain": [
              "title\n",
              "The Lord of the Rings: The Return of the King: Visual Companion      5.000000\n",
              "Jesus the Christ                                                     4.944444\n",
              "The Days Are Just Packed: A Calvin and Hobbes Collection             4.846154\n",
              "Batman: The Dark Knight Returns #1                                   4.823529\n",
              "The Authoritative Calvin and Hobbes: A Calvin and Hobbes Treasury    4.821429\n",
              "A Voice in the Wind (Mark of the Lion, #1)                           4.809524\n",
              "The Complete Calvin and Hobbes                                       4.808219\n",
              "The Calvin and Hobbes Lazy Sunday Book                               4.781250\n",
              "The Calvin and Hobbes Tenth Anniversary Book                         4.780220\n",
              "It's a Magical World: A Calvin and Hobbes Collection                 4.764706\n",
              "dtype: float64"
            ]
          },
          "metadata": {},
          "execution_count": 65
        }
      ]
    },
    {
      "cell_type": "code",
      "metadata": {
        "colab": {
          "base_uri": "https://localhost:8080/"
        },
        "id": "xxmTtt__02gr",
        "outputId": "da258c62-348e-4e83-e79e-2adece10d488"
      },
      "source": [
        "cluster4_books_storted = get_cluster_favorites(4)\n",
        "cluster4_mean = get_cluster_mean(4)\n",
        "\n",
        "print('The cluster 4 mean is:', cluster4_mean)\n",
        "cluster4_books_storted[0:10]"
      ],
      "execution_count": null,
      "outputs": [
        {
          "output_type": "stream",
          "name": "stdout",
          "text": [
            "The cluster 4 mean is: 3.998585236297692\n"
          ]
        },
        {
          "output_type": "execute_result",
          "data": {
            "text/plain": [
              "title\n",
              "Guess How Much I Love You                                                4.944444\n",
              "Gorillas in the Mist                                                     4.900000\n",
              "A Song of Ice and Fire (A Song of Ice and Fire, #1-4)                    4.888889\n",
              "The Wake (The Sandman #10)                                               4.833333\n",
              "Silver Borne (Mercy Thompson, #5)                                        4.818182\n",
              "Dreamfever (Fever, #4)                                                   4.818182\n",
              "J.R.R. Tolkien 4-Book Boxed Set: The Hobbit and The Lord of the Rings    4.812500\n",
              "The Complete Calvin and Hobbes                                           4.800000\n",
              "The Kindly Ones (The Sandman #9)                                         4.800000\n",
              "Clockwork Princess (The Infernal Devices, #3)                            4.769231\n",
              "dtype: float64"
            ]
          },
          "metadata": {},
          "execution_count": 66
        }
      ]
    },
    {
      "cell_type": "code",
      "metadata": {
        "colab": {
          "base_uri": "https://localhost:8080/"
        },
        "id": "Bm_V-l2y04c2",
        "outputId": "54445ea4-17ee-4077-9c4a-b7064c0f50df"
      },
      "source": [
        "cluster5_books_storted = get_cluster_favorites(5)\n",
        "cluster5_mean = get_cluster_mean(5)\n",
        "\n",
        "print('The cluster 5 mean is:', cluster5_mean)\n",
        "cluster5_books_storted[0:10]"
      ],
      "execution_count": null,
      "outputs": [
        {
          "output_type": "stream",
          "name": "stdout",
          "text": [
            "The cluster 5 mean is: 3.775249596413962\n"
          ]
        },
        {
          "output_type": "execute_result",
          "data": {
            "text/plain": [
              "title\n",
              "Up from the Grave (Night Huntress, #7)                      4.789474\n",
              "The Gashlycrumb Tinies (The Vinegar Works, #1)              4.750000\n",
              "It's a Magical World: A Calvin and Hobbes Collection        4.750000\n",
              "The Days Are Just Packed: A Calvin and Hobbes Collection    4.739130\n",
              "Convicted (Consequences, #3)                                4.733333\n",
              "The Complete Calvin and Hobbes                              4.730769\n",
              "Saga, Vol. 6 (Saga, #6)                                     4.727273\n",
              "March: Book One (March, #1)                                 4.722222\n",
              "A Song of Ice and Fire (A Song of Ice and Fire, #1-4)       4.720000\n",
              "Harry Potter Collection (Harry Potter, #1-6)                4.695652\n",
              "dtype: float64"
            ]
          },
          "metadata": {},
          "execution_count": 67
        }
      ]
    },
    {
      "cell_type": "code",
      "metadata": {
        "colab": {
          "base_uri": "https://localhost:8080/"
        },
        "id": "NkHv9t0K06Xr",
        "outputId": "d3b74a3d-da72-4d6b-c907-5a8d2f287582"
      },
      "source": [
        "cluster6_books_storted = get_cluster_favorites(6)\n",
        "cluster6_mean = get_cluster_mean(6)\n",
        "\n",
        "print('The cluster 6 mean is:', cluster6_mean)\n",
        "cluster6_books_storted[0:10]"
      ],
      "execution_count": null,
      "outputs": [
        {
          "output_type": "stream",
          "name": "stdout",
          "text": [
            "The cluster 6 mean is: 3.9234237044894393\n"
          ]
        },
        {
          "output_type": "execute_result",
          "data": {
            "text/plain": [
              "title\n",
              "The Authoritative Calvin and Hobbes: A Calvin and Hobbes Treasury      4.928571\n",
              "There's Treasure Everywhere: A Calvin and Hobbes Collection            4.875000\n",
              "The Complete Calvin and Hobbes                                         4.837838\n",
              "The Calvin and Hobbes Tenth Anniversary Book                           4.829268\n",
              "The Calvin and Hobbes Lazy Sunday Book                                 4.823529\n",
              "The Sandman: Overture                                                  4.809524\n",
              "Saga, Vol. 2 (Saga, #2)                                                4.804348\n",
              "A Game of Thrones: Comic Book, Issue 1                                 4.785714\n",
              "A Game of Thrones / A Clash of Kings (A Song of Ice and Fire, #1-2)    4.750000\n",
              "BookRags Summary:  A Storm of Swords                                   4.743590\n",
              "dtype: float64"
            ]
          },
          "metadata": {},
          "execution_count": 68
        }
      ]
    },
    {
      "cell_type": "code",
      "metadata": {
        "colab": {
          "base_uri": "https://localhost:8080/",
          "height": 238
        },
        "id": "qjc6wbGi08RL",
        "outputId": "e6fc4979-05c0-473d-fd03-f5aacd7560cb"
      },
      "source": [
        "# associate each test user with a cluster\n",
        "test_set_preds = clusterer_KMeans.predict(book_ratings_testing)\n",
        "test_set_indices = book_ratings_testing.index\n",
        "test_set_clusters = pd.DataFrame(data=test_set_preds, columns=['cluster']).set_index(test_set_indices)\n",
        "\n",
        "test_set_clusters.head()\n"
      ],
      "execution_count": null,
      "outputs": [
        {
          "output_type": "execute_result",
          "data": {
            "text/html": [
              "<div>\n",
              "<style scoped>\n",
              "    .dataframe tbody tr th:only-of-type {\n",
              "        vertical-align: middle;\n",
              "    }\n",
              "\n",
              "    .dataframe tbody tr th {\n",
              "        vertical-align: top;\n",
              "    }\n",
              "\n",
              "    .dataframe thead th {\n",
              "        text-align: right;\n",
              "    }\n",
              "</style>\n",
              "<table border=\"1\" class=\"dataframe\">\n",
              "  <thead>\n",
              "    <tr style=\"text-align: right;\">\n",
              "      <th></th>\n",
              "      <th>cluster</th>\n",
              "    </tr>\n",
              "    <tr>\n",
              "      <th>user_id</th>\n",
              "      <th></th>\n",
              "    </tr>\n",
              "  </thead>\n",
              "  <tbody>\n",
              "    <tr>\n",
              "      <th>35165</th>\n",
              "      <td>4</td>\n",
              "    </tr>\n",
              "    <tr>\n",
              "      <th>40105</th>\n",
              "      <td>5</td>\n",
              "    </tr>\n",
              "    <tr>\n",
              "      <th>29158</th>\n",
              "      <td>3</td>\n",
              "    </tr>\n",
              "    <tr>\n",
              "      <th>30309</th>\n",
              "      <td>3</td>\n",
              "    </tr>\n",
              "    <tr>\n",
              "      <th>29043</th>\n",
              "      <td>0</td>\n",
              "    </tr>\n",
              "  </tbody>\n",
              "</table>\n",
              "</div>"
            ],
            "text/plain": [
              "         cluster\n",
              "user_id         \n",
              "35165          4\n",
              "40105          5\n",
              "29158          3\n",
              "30309          3\n",
              "29043          0"
            ]
          },
          "metadata": {},
          "execution_count": 69
        }
      ]
    },
    {
      "cell_type": "code",
      "metadata": {
        "colab": {
          "base_uri": "https://localhost:8080/"
        },
        "id": "ZzzYctgv0-N5",
        "outputId": "78c1f7ab-fb79-41fa-bd68-107c7652a69b"
      },
      "source": [
        "import numpy as np\n",
        "mean_ratings_for_cluster_favorites = []\n",
        "\n",
        "# put each cluster's sorted book list in an array to reference\n",
        "cluster_favorites = [cluster0_books_storted, cluster1_books_storted, cluster2_books_storted, cluster3_books_storted, cluster4_books_storted, cluster5_books_storted, cluster6_books_storted]\n",
        "\n",
        "# for each user, find the 10 books the reader has rated that are the top-rated books of the cluster. \n",
        "# get the reader's average score for those books\n",
        "for index, row in test_set_ratings.iterrows():\n",
        "    user_cluster = test_set_clusters.loc[index, 'cluster']\n",
        "    favorites = cluster_favorites[user_cluster].index\n",
        "    user_ratings_of_favorites = []\n",
        "    # proceed in order down the cluster's list of favorite books\n",
        "    for book in favorites:\n",
        "        # if the user has given the book a rating, save the rating to a list\n",
        "        if np.isnan(row[book]) == False:\n",
        "            user_ratings_of_favorites.append(row[book])\n",
        "        # stop when there are 10 ratings for the user\n",
        "        if len(user_ratings_of_favorites) >= 10:\n",
        "            break\n",
        "    # get the mean for the user's rating of the cluster's 10 favorite books\n",
        "    mean_rating_for_favorites = sum(user_ratings_of_favorites) / len(user_ratings_of_favorites)\n",
        "    mean_ratings_for_cluster_favorites.append(mean_rating_for_favorites)\n",
        "    \n",
        "mean_favorites_rating = sum(mean_ratings_for_cluster_favorites) / len(mean_ratings_for_cluster_favorites)\n",
        "\n",
        "print('Mean rating for 10 random books per test user: ', mean_benchmark_rating)\n",
        "print('Mean rarting for 10 books that are the cluster\\'s favorites: ', mean_favorites_rating)\n",
        "print('Difference between ratings: ', mean_favorites_rating-mean_benchmark_rating)"
      ],
      "execution_count": null,
      "outputs": [
        {
          "output_type": "stream",
          "name": "stdout",
          "text": [
            "Mean rating for 10 random books per test user:  3.923020986745217\n",
            "Mean rarting for 10 books that are the cluster's favorites:  4.366918262150226\n",
            "Difference between ratings:  0.44389727540500923\n"
          ]
        }
      ]
    },
    {
      "cell_type": "code",
      "metadata": {
        "colab": {
          "base_uri": "https://localhost:8080/"
        },
        "id": "DWCc5cBl1DMR",
        "outputId": "08554ae7-abb3-420f-b11f-9cc66b6994f9"
      },
      "source": [
        "import random\n",
        "def recommend(cluster_assignments, user_id):\n",
        "    user_cluster = cluster_assignments\n",
        "    favorites = get_cluster_favorites(user_cluster).index\n",
        "    favorites = random.choices(favorites, k=9)     \n",
        "    return favorites\n",
        "    \n",
        "\n",
        "# recommendation27229 = recommend(test_set_clusters, user_book_ratings, 27229)\n",
        "# recommendation31159 = recommend(test_set_clusters, user_book_ratings, 31159)\n",
        "# recommendation10579 = recommend(test_set_clusters, user_book_ratings, 10579)\n",
        "# recommendation8667 = recommend(test_set_clusters, user_book_ratings, 8667)\n",
        "\n",
        "# print('Recommendation for user 27229: ', recommendation27229)\n",
        "# print('Recommendation for user 31159: ', recommendation31159)\n",
        "# print('Recommendation for user 10579: ', recommendation10579)\n",
        "# print('Recommendation for user 8667: ', recommendation8667)\n",
        "\n",
        "recommendation8667 = recommend(5, 8667)\n",
        "print(recommendation8667)"
      ],
      "execution_count": null,
      "outputs": [
        {
          "output_type": "stream",
          "name": "stdout",
          "text": [
            "['Monster in His Eyes (Monster in His Eyes, #1)', \"Arrow's Flight (Heralds of Valdemar, #2)\", 'Peter Pan (A Little Golden Book)', 'The Goal: A Process of Ongoing Improvement', \"Hell's Corner (Camel Club, #5)\", 'Going Too Far', 'The Last Guardian (Artemis Fowl, #8)', \"The Negotiator (O'Malley, #1)\", 'Breakfast of Champions']\n"
          ]
        }
      ]
    },
    {
      "cell_type": "markdown",
      "metadata": {
        "id": "msYjeG3AZEfS"
      },
      "source": [
        "# Graph Neural Network"
      ]
    },
    {
      "cell_type": "code",
      "metadata": {
        "colab": {
          "base_uri": "https://localhost:8080/"
        },
        "id": "qwRQ9OUtwkbg",
        "outputId": "832fceae-d6f9-4e51-a40a-5222345bdfc9"
      },
      "source": [
        "import torch\n",
        "print(torch.version.cuda)\n",
        "import torch\n",
        "print(torch.__version__)"
      ],
      "execution_count": null,
      "outputs": [
        {
          "output_type": "stream",
          "name": "stdout",
          "text": [
            "11.1\n",
            "1.10.0+cu111\n"
          ]
        }
      ]
    },
    {
      "cell_type": "code",
      "metadata": {
        "colab": {
          "base_uri": "https://localhost:8080/",
          "height": 732
        },
        "id": "fgiHq6Kqy_uM",
        "outputId": "0298b64b-d16c-4417-da30-6452fcb30c94"
      },
      "source": [
        "!pip install torch==1.9.0+cu111 torchvision==0.10.0+cu111 torchaudio===0.9.0 -f https://download.pytorch.org/whl/cu111/torch_stable.html"
      ],
      "execution_count": null,
      "outputs": [
        {
          "output_type": "stream",
          "name": "stdout",
          "text": [
            "Looking in links: https://download.pytorch.org/whl/cu111/torch_stable.html\n",
            "Collecting torch==1.9.0+cu111\n",
            "  Downloading https://download.pytorch.org/whl/cu111/torch-1.9.0%2Bcu111-cp37-cp37m-linux_x86_64.whl (2041.3 MB)\n",
            "\u001b[K     |█████████████                   | 834.1 MB 1.8 MB/s eta 0:11:24tcmalloc: large alloc 1147494400 bytes == 0x55dff0118000 @  0x7f71e6ae4615 0x55dfb63eb4cc 0x55dfb64cb47a 0x55dfb63ee2ed 0x55dfb64dfe1d 0x55dfb6461e99 0x55dfb645c9ee 0x55dfb63efbda 0x55dfb6461d00 0x55dfb645c9ee 0x55dfb63efbda 0x55dfb645e737 0x55dfb64e0c66 0x55dfb645ddaf 0x55dfb64e0c66 0x55dfb645ddaf 0x55dfb64e0c66 0x55dfb645ddaf 0x55dfb63f0039 0x55dfb6433409 0x55dfb63eec52 0x55dfb6461c25 0x55dfb645c9ee 0x55dfb63efbda 0x55dfb645e737 0x55dfb645c9ee 0x55dfb63efbda 0x55dfb645d915 0x55dfb63efafa 0x55dfb645dc0d 0x55dfb645c9ee\n",
            "\u001b[K     |████████████████▌               | 1055.7 MB 36.8 MB/s eta 0:00:27tcmalloc: large alloc 1434370048 bytes == 0x55e03476e000 @  0x7f71e6ae4615 0x55dfb63eb4cc 0x55dfb64cb47a 0x55dfb63ee2ed 0x55dfb64dfe1d 0x55dfb6461e99 0x55dfb645c9ee 0x55dfb63efbda 0x55dfb6461d00 0x55dfb645c9ee 0x55dfb63efbda 0x55dfb645e737 0x55dfb64e0c66 0x55dfb645ddaf 0x55dfb64e0c66 0x55dfb645ddaf 0x55dfb64e0c66 0x55dfb645ddaf 0x55dfb63f0039 0x55dfb6433409 0x55dfb63eec52 0x55dfb6461c25 0x55dfb645c9ee 0x55dfb63efbda 0x55dfb645e737 0x55dfb645c9ee 0x55dfb63efbda 0x55dfb645d915 0x55dfb63efafa 0x55dfb645dc0d 0x55dfb645c9ee\n",
            "\u001b[K     |█████████████████████           | 1336.2 MB 1.5 MB/s eta 0:07:45tcmalloc: large alloc 1792966656 bytes == 0x55dfb95a0000 @  0x7f71e6ae4615 0x55dfb63eb4cc 0x55dfb64cb47a 0x55dfb63ee2ed 0x55dfb64dfe1d 0x55dfb6461e99 0x55dfb645c9ee 0x55dfb63efbda 0x55dfb6461d00 0x55dfb645c9ee 0x55dfb63efbda 0x55dfb645e737 0x55dfb64e0c66 0x55dfb645ddaf 0x55dfb64e0c66 0x55dfb645ddaf 0x55dfb64e0c66 0x55dfb645ddaf 0x55dfb63f0039 0x55dfb6433409 0x55dfb63eec52 0x55dfb6461c25 0x55dfb645c9ee 0x55dfb63efbda 0x55dfb645e737 0x55dfb645c9ee 0x55dfb63efbda 0x55dfb645d915 0x55dfb63efafa 0x55dfb645dc0d 0x55dfb645c9ee\n",
            "\u001b[K     |██████████████████████████▌     | 1691.1 MB 1.5 MB/s eta 0:03:57tcmalloc: large alloc 2241208320 bytes == 0x55e024388000 @  0x7f71e6ae4615 0x55dfb63eb4cc 0x55dfb64cb47a 0x55dfb63ee2ed 0x55dfb64dfe1d 0x55dfb6461e99 0x55dfb645c9ee 0x55dfb63efbda 0x55dfb6461d00 0x55dfb645c9ee 0x55dfb63efbda 0x55dfb645e737 0x55dfb64e0c66 0x55dfb645ddaf 0x55dfb64e0c66 0x55dfb645ddaf 0x55dfb64e0c66 0x55dfb645ddaf 0x55dfb63f0039 0x55dfb6433409 0x55dfb63eec52 0x55dfb6461c25 0x55dfb645c9ee 0x55dfb63efbda 0x55dfb645e737 0x55dfb645c9ee 0x55dfb63efbda 0x55dfb645d915 0x55dfb63efafa 0x55dfb645dc0d 0x55dfb645c9ee\n",
            "\u001b[K     |████████████████████████████████| 2041.3 MB 1.6 MB/s eta 0:00:01tcmalloc: large alloc 2041348096 bytes == 0x55e0a9cea000 @  0x7f71e6ae31e7 0x55dfb6421067 0x55dfb63eb4cc 0x55dfb64cb47a 0x55dfb63ee2ed 0x55dfb64dfe1d 0x55dfb6461e99 0x55dfb645c9ee 0x55dfb63efbda 0x55dfb645dc0d 0x55dfb645c9ee 0x55dfb63efbda 0x55dfb645dc0d 0x55dfb645c9ee 0x55dfb63efbda 0x55dfb645dc0d 0x55dfb645c9ee 0x55dfb63efbda 0x55dfb645dc0d 0x55dfb645c9ee 0x55dfb63efbda 0x55dfb645dc0d 0x55dfb63efafa 0x55dfb645dc0d 0x55dfb645c9ee 0x55dfb63efbda 0x55dfb645e737 0x55dfb645c9ee 0x55dfb63efbda 0x55dfb645e737 0x55dfb645c9ee\n",
            "tcmalloc: large alloc 2551685120 bytes == 0x55e197c6a000 @  0x7f71e6ae4615 0x55dfb63eb4cc 0x55dfb64cb47a 0x55dfb63ee2ed 0x55dfb64dfe1d 0x55dfb6461e99 0x55dfb645c9ee 0x55dfb63efbda 0x55dfb645dc0d 0x55dfb645c9ee 0x55dfb63efbda 0x55dfb645dc0d 0x55dfb645c9ee 0x55dfb63efbda 0x55dfb645dc0d 0x55dfb645c9ee 0x55dfb63efbda 0x55dfb645dc0d 0x55dfb645c9ee 0x55dfb63efbda 0x55dfb645dc0d 0x55dfb63efafa 0x55dfb645dc0d 0x55dfb645c9ee 0x55dfb63efbda 0x55dfb645e737 0x55dfb645c9ee 0x55dfb63efbda 0x55dfb645e737 0x55dfb645c9ee 0x55dfb63f0271\n",
            "\u001b[K     |████████████████████████████████| 2041.3 MB 3.4 kB/s \n",
            "\u001b[?25hCollecting torchvision==0.10.0+cu111\n",
            "  Downloading https://download.pytorch.org/whl/cu111/torchvision-0.10.0%2Bcu111-cp37-cp37m-linux_x86_64.whl (23.2 MB)\n",
            "\u001b[K     |████████████████████████████████| 23.2 MB 1.7 MB/s \n",
            "\u001b[?25hCollecting torchaudio===0.9.0\n",
            "  Downloading torchaudio-0.9.0-cp37-cp37m-manylinux1_x86_64.whl (1.9 MB)\n",
            "\u001b[K     |████████████████████████████████| 1.9 MB 5.1 MB/s \n",
            "\u001b[?25hRequirement already satisfied: typing-extensions in /usr/local/lib/python3.7/dist-packages (from torch==1.9.0+cu111) (3.10.0.2)\n",
            "Requirement already satisfied: numpy in /usr/local/lib/python3.7/dist-packages (from torchvision==0.10.0+cu111) (1.19.5)\n",
            "Requirement already satisfied: pillow>=5.3.0 in /usr/local/lib/python3.7/dist-packages (from torchvision==0.10.0+cu111) (7.1.2)\n",
            "Installing collected packages: torch, torchvision, torchaudio\n",
            "  Attempting uninstall: torch\n",
            "    Found existing installation: torch 1.10.0+cu111\n",
            "    Uninstalling torch-1.10.0+cu111:\n",
            "      Successfully uninstalled torch-1.10.0+cu111\n",
            "  Attempting uninstall: torchvision\n",
            "    Found existing installation: torchvision 0.11.1+cu111\n",
            "    Uninstalling torchvision-0.11.1+cu111:\n",
            "      Successfully uninstalled torchvision-0.11.1+cu111\n",
            "  Attempting uninstall: torchaudio\n",
            "    Found existing installation: torchaudio 0.10.0+cu111\n",
            "    Uninstalling torchaudio-0.10.0+cu111:\n",
            "      Successfully uninstalled torchaudio-0.10.0+cu111\n",
            "\u001b[31mERROR: pip's dependency resolver does not currently take into account all the packages that are installed. This behaviour is the source of the following dependency conflicts.\n",
            "torchtext 0.11.0 requires torch==1.10.0, but you have torch 1.9.0+cu111 which is incompatible.\u001b[0m\n",
            "Successfully installed torch-1.9.0+cu111 torchaudio-0.9.0 torchvision-0.10.0+cu111\n"
          ]
        },
        {
          "output_type": "display_data",
          "data": {
            "application/vnd.colab-display-data+json": {
              "pip_warning": {
                "packages": [
                  "torch"
                ]
              }
            }
          },
          "metadata": {}
        }
      ]
    },
    {
      "cell_type": "code",
      "metadata": {
        "colab": {
          "base_uri": "https://localhost:8080/"
        },
        "id": "YS34tZIGAaD3",
        "outputId": "b34dcc2c-64c2-4c7e-9d3a-1c3ee7478887"
      },
      "source": [
        "!pip install torch-scatter torch-sparse torch-cluster torch-spline-conv torch-geometric -f https://data.pyg.org/whl/torch-1.9.0+cu111.html"
      ],
      "execution_count": null,
      "outputs": [
        {
          "output_type": "stream",
          "name": "stdout",
          "text": [
            "Looking in links: https://data.pyg.org/whl/torch-1.9.0+cu111.html\n",
            "Collecting torch-scatter\n",
            "  Downloading https://data.pyg.org/whl/torch-1.9.0%2Bcu111/torch_scatter-2.0.9-cp37-cp37m-linux_x86_64.whl (10.4 MB)\n",
            "\u001b[K     |████████████████████████████████| 10.4 MB 4.5 MB/s \n",
            "\u001b[?25hCollecting torch-sparse\n",
            "  Downloading https://data.pyg.org/whl/torch-1.9.0%2Bcu111/torch_sparse-0.6.12-cp37-cp37m-linux_x86_64.whl (3.7 MB)\n",
            "\u001b[K     |████████████████████████████████| 3.7 MB 36.6 MB/s \n",
            "\u001b[?25hCollecting torch-cluster\n",
            "  Downloading https://data.pyg.org/whl/torch-1.9.0%2Bcu111/torch_cluster-1.5.9-cp37-cp37m-linux_x86_64.whl (1.6 MB)\n",
            "\u001b[K     |████████████████████████████████| 1.6 MB 38.7 MB/s \n",
            "\u001b[?25hCollecting torch-spline-conv\n",
            "  Downloading https://data.pyg.org/whl/torch-1.9.0%2Bcu111/torch_spline_conv-1.2.1-cp37-cp37m-linux_x86_64.whl (870 kB)\n",
            "\u001b[K     |████████████████████████████████| 870 kB 701 kB/s \n",
            "\u001b[?25hCollecting torch-geometric\n",
            "  Downloading torch_geometric-2.0.2.tar.gz (325 kB)\n",
            "\u001b[K     |████████████████████████████████| 325 kB 5.3 MB/s \n",
            "\u001b[?25hRequirement already satisfied: scipy in /usr/local/lib/python3.7/dist-packages (from torch-sparse) (1.4.1)\n",
            "Requirement already satisfied: numpy in /usr/local/lib/python3.7/dist-packages (from torch-geometric) (1.19.5)\n",
            "Requirement already satisfied: tqdm in /usr/local/lib/python3.7/dist-packages (from torch-geometric) (4.62.3)\n",
            "Requirement already satisfied: networkx in /usr/local/lib/python3.7/dist-packages (from torch-geometric) (2.6.3)\n",
            "Requirement already satisfied: scikit-learn in /usr/local/lib/python3.7/dist-packages (from torch-geometric) (1.0.1)\n",
            "Requirement already satisfied: requests in /usr/local/lib/python3.7/dist-packages (from torch-geometric) (2.23.0)\n",
            "Requirement already satisfied: pandas in /usr/local/lib/python3.7/dist-packages (from torch-geometric) (1.1.5)\n",
            "Collecting rdflib\n",
            "  Downloading rdflib-6.0.2-py3-none-any.whl (407 kB)\n",
            "\u001b[K     |████████████████████████████████| 407 kB 34.5 MB/s \n",
            "\u001b[?25hRequirement already satisfied: googledrivedownloader in /usr/local/lib/python3.7/dist-packages (from torch-geometric) (0.4)\n",
            "Requirement already satisfied: jinja2 in /usr/local/lib/python3.7/dist-packages (from torch-geometric) (2.11.3)\n",
            "Requirement already satisfied: pyparsing in /usr/local/lib/python3.7/dist-packages (from torch-geometric) (3.0.6)\n",
            "Collecting yacs\n",
            "  Downloading yacs-0.1.8-py3-none-any.whl (14 kB)\n",
            "Requirement already satisfied: PyYAML in /usr/local/lib/python3.7/dist-packages (from torch-geometric) (3.13)\n",
            "Requirement already satisfied: MarkupSafe>=0.23 in /usr/local/lib/python3.7/dist-packages (from jinja2->torch-geometric) (2.0.1)\n",
            "Requirement already satisfied: python-dateutil>=2.7.3 in /usr/local/lib/python3.7/dist-packages (from pandas->torch-geometric) (2.8.2)\n",
            "Requirement already satisfied: pytz>=2017.2 in /usr/local/lib/python3.7/dist-packages (from pandas->torch-geometric) (2018.9)\n",
            "Requirement already satisfied: six>=1.5 in /usr/local/lib/python3.7/dist-packages (from python-dateutil>=2.7.3->pandas->torch-geometric) (1.15.0)\n",
            "Requirement already satisfied: setuptools in /usr/local/lib/python3.7/dist-packages (from rdflib->torch-geometric) (57.4.0)\n",
            "Collecting isodate\n",
            "  Downloading isodate-0.6.0-py2.py3-none-any.whl (45 kB)\n",
            "\u001b[K     |████████████████████████████████| 45 kB 3.2 MB/s \n",
            "\u001b[?25hRequirement already satisfied: idna<3,>=2.5 in /usr/local/lib/python3.7/dist-packages (from requests->torch-geometric) (2.10)\n",
            "Requirement already satisfied: chardet<4,>=3.0.2 in /usr/local/lib/python3.7/dist-packages (from requests->torch-geometric) (3.0.4)\n",
            "Requirement already satisfied: urllib3!=1.25.0,!=1.25.1,<1.26,>=1.21.1 in /usr/local/lib/python3.7/dist-packages (from requests->torch-geometric) (1.24.3)\n",
            "Requirement already satisfied: certifi>=2017.4.17 in /usr/local/lib/python3.7/dist-packages (from requests->torch-geometric) (2021.10.8)\n",
            "Requirement already satisfied: joblib>=0.11 in /usr/local/lib/python3.7/dist-packages (from scikit-learn->torch-geometric) (1.1.0)\n",
            "Requirement already satisfied: threadpoolctl>=2.0.0 in /usr/local/lib/python3.7/dist-packages (from scikit-learn->torch-geometric) (3.0.0)\n",
            "Building wheels for collected packages: torch-geometric\n",
            "  Building wheel for torch-geometric (setup.py) ... \u001b[?25l\u001b[?25hdone\n",
            "  Created wheel for torch-geometric: filename=torch_geometric-2.0.2-py3-none-any.whl size=535570 sha256=ae110dd6ee4a367adbb96d3fd62f41b64daa4a678db2dcd54a897186ba9b8131\n",
            "  Stored in directory: /root/.cache/pip/wheels/3f/08/13/2321517088bb2e95bfd0e45033bb9c923189e5b2078e0be4ef\n",
            "Successfully built torch-geometric\n",
            "Installing collected packages: isodate, yacs, rdflib, torch-spline-conv, torch-sparse, torch-scatter, torch-geometric, torch-cluster\n",
            "Successfully installed isodate-0.6.0 rdflib-6.0.2 torch-cluster-1.5.9 torch-geometric-2.0.2 torch-scatter-2.0.9 torch-sparse-0.6.12 torch-spline-conv-1.2.1 yacs-0.1.8\n"
          ]
        }
      ]
    },
    {
      "cell_type": "code",
      "metadata": {
        "id": "szxedkADSXTr"
      },
      "source": [
        "!rm -rf book-recommendations/"
      ],
      "execution_count": null,
      "outputs": []
    },
    {
      "cell_type": "code",
      "metadata": {
        "id": "6B18GqZvct45"
      },
      "source": [
        "%load_ext autoreload\n",
        "%autoreload 1"
      ],
      "execution_count": null,
      "outputs": []
    },
    {
      "cell_type": "code",
      "metadata": {
        "colab": {
          "base_uri": "https://localhost:8080/"
        },
        "id": "rCKLDCdpqfQ1",
        "outputId": "47b9384d-5581-4451-fbc3-ba53f1baca57"
      },
      "source": [
        "%cd /content/"
      ],
      "execution_count": null,
      "outputs": [
        {
          "output_type": "stream",
          "name": "stdout",
          "text": [
            "/content\n"
          ]
        }
      ]
    },
    {
      "cell_type": "code",
      "metadata": {
        "colab": {
          "base_uri": "https://localhost:8080/"
        },
        "id": "suSXgehuqlFe",
        "outputId": "efd78865-7eff-48c5-9cda-aad5bd050726"
      },
      "source": [
        "!git clone https://gitlab.com/dragonredu01/book-recommendations.git"
      ],
      "execution_count": null,
      "outputs": [
        {
          "output_type": "stream",
          "name": "stdout",
          "text": [
            "Cloning into 'book-recommendations'...\n",
            "remote: Enumerating objects: 92531, done.\u001b[K\n",
            "remote: Counting objects: 100% (92531/92531), done.\u001b[K\n",
            "remote: Compressing objects: 100% (4661/4661), done.\u001b[K\n",
            "remote: Total 92531 (delta 87903), reused 92467 (delta 87855), pack-reused 0\u001b[K\n",
            "Receiving objects: 100% (92531/92531), 174.33 MiB | 2.53 MiB/s, done.\n",
            "Resolving deltas: 100% (87903/87903), done.\n",
            "Checking out files: 100% (489/489), done.\n"
          ]
        }
      ]
    },
    {
      "cell_type": "code",
      "metadata": {
        "colab": {
          "base_uri": "https://localhost:8080/"
        },
        "id": "sgGEXFgdrubD",
        "outputId": "3b6b21ff-17ac-47df-953b-59d5f8adf444"
      },
      "source": [
        "%cd /content/book-recommendations/"
      ],
      "execution_count": null,
      "outputs": [
        {
          "output_type": "stream",
          "name": "stdout",
          "text": [
            "/content/book-recommendations\n"
          ]
        }
      ]
    },
    {
      "cell_type": "code",
      "metadata": {
        "colab": {
          "base_uri": "https://localhost:8080/"
        },
        "id": "E9iSKfHuuXTc",
        "outputId": "6b5a9fda-a8e9-4842-85ed-36b1848583fd"
      },
      "source": [
        "!cat .git/config"
      ],
      "execution_count": null,
      "outputs": [
        {
          "output_type": "stream",
          "name": "stdout",
          "text": [
            "[core]\n",
            "\trepositoryformatversion = 0\n",
            "\tfilemode = true\n",
            "\tbare = false\n",
            "\tlogallrefupdates = true\n",
            "[remote \"origin\"]\n",
            "\turl = https://gitlab.com/dragonredu01/book-recommendations.git\n",
            "\tfetch = +refs/heads/*:refs/remotes/origin/*\n",
            "[branch \"main\"]\n",
            "\tremote = origin\n",
            "\tmerge = refs/heads/main\n"
          ]
        }
      ]
    },
    {
      "cell_type": "code",
      "metadata": {
        "id": "TYLr16qFv89Z",
        "colab": {
          "base_uri": "https://localhost:8080/"
        },
        "outputId": "f4871b0b-d96c-4b9d-9ca8-bb20b4ac809a"
      },
      "source": [
        "%%writefile .git/config\n",
        "[core]\n",
        "\trepositoryformatversion = 0\n",
        "\tfilemode = true\n",
        "\tbare = false\n",
        "\tlogallrefupdates = true\n",
        "[remote \"origin\"]\n",
        "\turl = https://gitlab.com/dragonredu01/book-recommendations.git\n",
        "\tfetch = +refs/heads/*:refs/remotes/origin/*\n",
        "[branch \"main\"]\n",
        "\tremote = origin\n",
        "\tmerge = refs/heads/main\n",
        "[submodule \"GNN-RecSys\"]\n",
        "\tactive = true\n",
        "\turl = https://github.com/Phong940253/GNN-RecSys.git\n",
        "[submodule \"pygcn\"]\n",
        "\tactive = true\n",
        "\turl = https://github.com/Phong940253/pygcn.git"
      ],
      "execution_count": null,
      "outputs": [
        {
          "output_type": "stream",
          "name": "stdout",
          "text": [
            "Overwriting .git/config\n"
          ]
        }
      ]
    },
    {
      "cell_type": "code",
      "metadata": {
        "id": "KBtCUoQsr1Ih",
        "colab": {
          "base_uri": "https://localhost:8080/"
        },
        "outputId": "9c27f6db-1329-4ec2-93ff-6577722b6261"
      },
      "source": [
        "!git submodule update --recursive"
      ],
      "execution_count": null,
      "outputs": [
        {
          "output_type": "stream",
          "name": "stdout",
          "text": [
            "Cloning into '/content/book-recommendations/GNN-RecSys'...\n",
            "Cloning into '/content/book-recommendations/pygcn'...\n",
            "Submodule path 'GNN-RecSys': checked out '99f63d8865fb887e3cf756888c07e9c7c1f706b3'\n",
            "Submodule path 'pygcn': checked out '26aeeb42b529e545e4ce416efcdcbc83df07c87e'\n"
          ]
        }
      ]
    },
    {
      "cell_type": "code",
      "metadata": {
        "colab": {
          "base_uri": "https://localhost:8080/"
        },
        "id": "aYx7e24AQBte",
        "outputId": "79790afa-d25c-4641-94de-98721ea8a4bf"
      },
      "source": [
        "!nvcc --version"
      ],
      "execution_count": null,
      "outputs": [
        {
          "output_type": "stream",
          "name": "stdout",
          "text": [
            "nvcc: NVIDIA (R) Cuda compiler driver\n",
            "Copyright (c) 2005-2020 NVIDIA Corporation\n",
            "Built on Mon_Oct_12_20:09:46_PDT_2020\n",
            "Cuda compilation tools, release 11.1, V11.1.105\n",
            "Build cuda_11.1.TC455_06.29190527_0\n"
          ]
        }
      ]
    },
    {
      "cell_type": "code",
      "metadata": {
        "colab": {
          "base_uri": "https://localhost:8080/"
        },
        "id": "oMG0EEmpFOlF",
        "outputId": "f2c03b6c-fa8f-4ff8-ce79-a2bc6284c862"
      },
      "source": [
        "%cd /content/book-recommendations/model\n",
        "!git checkout Phong"
      ],
      "execution_count": null,
      "outputs": [
        {
          "output_type": "stream",
          "name": "stdout",
          "text": [
            "/content/book-recommendations/model\n",
            "M\tmodel/train.py\n",
            "M\tpygcn\n",
            "Already on 'Phong'\n",
            "Your branch is up to date with 'origin/Phong'.\n"
          ]
        }
      ]
    },
    {
      "cell_type": "code",
      "metadata": {
        "colab": {
          "base_uri": "https://localhost:8080/"
        },
        "id": "-ag3vZWLr1Ji",
        "outputId": "a6adc092-373a-4a0e-e59a-c93753b15434"
      },
      "source": [
        "!git pull"
      ],
      "execution_count": null,
      "outputs": [
        {
          "output_type": "stream",
          "name": "stdout",
          "text": [
            "Already up to date.\n"
          ]
        }
      ]
    },
    {
      "cell_type": "code",
      "metadata": {
        "colab": {
          "base_uri": "https://localhost:8080/"
        },
        "id": "gTPnZWLHjNOH",
        "outputId": "e32e5f3b-c6aa-4d79-fe4c-1b0c13d9763f"
      },
      "source": [
        "import pandas as pd\n",
        "from sklearn.model_selection import GroupShuffleSplit\n",
        "voting = pd.read_csv(\"./dataset/raw/BX-Book-Ratings.csv\", sep=';', encoding = \"ISO-8859-1\")\n",
        "users = pd.read_csv(\"./dataset/raw/BX-Users.csv\", sep=';', encoding = \"ISO-8859-1\")\n",
        "books = pd.read_csv(\"./dataset/raw/BX_Books.csv\", sep=';', encoding = \"ISO-8859-1\")\n",
        "print(books.columns)\n",
        "print(users.head())\n",
        "pd.set_option('max_columns', 10)\n",
        "print(books.head(5))\n",
        "print(voting.head())\n",
        "print(voting.describe())\n",
        "print(users.describe())\n",
        "print(books.describe())\n",
        "# train_idx, test_idx = next(GroupShuffleSplit(test_size=.2, n_splits=2, random_state = 41).split(df, groups=df['User-ID']))\n",
        "# train, test = df.iloc[train_idx], df.iloc[test_idx]\n",
        "# train.describe()\n",
        "# train.to_csv('./data/train.csv', index = False, sep=';')\n",
        "# test.to_csv('./data/test.csv', index = False, sep=';')"
      ],
      "execution_count": null,
      "outputs": [
        {
          "output_type": "stream",
          "name": "stdout",
          "text": [
            "Index(['ISBN', 'Book-Title', 'Book-Author', 'Year-Of-Publication', 'Publisher',\n",
            "       'Image-URL-S', 'Image-URL-M', 'Image-URL-L'],\n",
            "      dtype='object')\n",
            "   User-ID                            Location   Age\n",
            "0        1                  nyc, new york, usa   NaN\n",
            "1        2           stockton, california, usa  18.0\n",
            "2        3     moscow, yukon territory, russia   NaN\n",
            "3        4           porto, v.n.gaia, portugal  17.0\n",
            "4        5  farnborough, hants, united kingdom   NaN\n",
            "         ISBN                                         Book-Title  \\\n",
            "0  0195153448                                Classical Mythology   \n",
            "1  0002005018                                       Clara Callan   \n",
            "2  0060973129                               Decision in Normandy   \n",
            "3  0374157065  Flu: The Story of the Great Influenza Pandemic...   \n",
            "4  0393045218                             The Mummies of Urumchi   \n",
            "\n",
            "            Book-Author  Year-Of-Publication                Publisher  \\\n",
            "0    Mark P. O. Morford                 2002  Oxford University Press   \n",
            "1  Richard Bruce Wright                 2001    HarperFlamingo Canada   \n",
            "2          Carlo D'Este                 1991          HarperPerennial   \n",
            "3      Gina Bari Kolata                 1999     Farrar Straus Giroux   \n",
            "4       E. J. W. Barber                 1999   W. W. Norton & Company   \n",
            "\n",
            "                                         Image-URL-S  \\\n",
            "0  http://images.amazon.com/images/P/0195153448.0...   \n",
            "1  http://images.amazon.com/images/P/0002005018.0...   \n",
            "2  http://images.amazon.com/images/P/0060973129.0...   \n",
            "3  http://images.amazon.com/images/P/0374157065.0...   \n",
            "4  http://images.amazon.com/images/P/0393045218.0...   \n",
            "\n",
            "                                         Image-URL-M  \\\n",
            "0  http://images.amazon.com/images/P/0195153448.0...   \n",
            "1  http://images.amazon.com/images/P/0002005018.0...   \n",
            "2  http://images.amazon.com/images/P/0060973129.0...   \n",
            "3  http://images.amazon.com/images/P/0374157065.0...   \n",
            "4  http://images.amazon.com/images/P/0393045218.0...   \n",
            "\n",
            "                                         Image-URL-L  \n",
            "0  http://images.amazon.com/images/P/0195153448.0...  \n",
            "1  http://images.amazon.com/images/P/0002005018.0...  \n",
            "2  http://images.amazon.com/images/P/0060973129.0...  \n",
            "3  http://images.amazon.com/images/P/0374157065.0...  \n",
            "4  http://images.amazon.com/images/P/0393045218.0...  \n",
            "   User-ID        ISBN  Book-Rating\n",
            "0   276725  034545104X            0\n",
            "1   276726  0155061224            5\n",
            "2   276727  0446520802            0\n",
            "3   276729  052165615X            3\n",
            "4   276729  0521795028            6\n",
            "            User-ID   Book-Rating\n",
            "count  1.149780e+06  1.149780e+06\n",
            "mean   1.403864e+05  2.866950e+00\n",
            "std    8.056228e+04  3.854184e+00\n",
            "min    2.000000e+00  0.000000e+00\n",
            "25%    7.034500e+04  0.000000e+00\n",
            "50%    1.410100e+05  0.000000e+00\n",
            "75%    2.110280e+05  7.000000e+00\n",
            "max    2.788540e+05  1.000000e+01\n",
            "            User-ID            Age\n",
            "count  278858.00000  168096.000000\n",
            "mean   139429.50000      34.751434\n",
            "std     80499.51502      14.428097\n",
            "min         1.00000       0.000000\n",
            "25%     69715.25000      24.000000\n",
            "50%    139429.50000      32.000000\n",
            "75%    209143.75000      44.000000\n",
            "max    278858.00000     244.000000\n",
            "       Year-Of-Publication\n",
            "count        271379.000000\n",
            "mean           1959.756050\n",
            "std             258.011363\n",
            "min               0.000000\n",
            "25%            1989.000000\n",
            "50%            1995.000000\n",
            "75%            2000.000000\n",
            "max            2050.000000\n"
          ]
        }
      ]
    },
    {
      "cell_type": "code",
      "metadata": {
        "id": "NCykyQDr4qx4",
        "colab": {
          "base_uri": "https://localhost:8080/"
        },
        "outputId": "92aadebe-3746-4c9d-f599-78c5946ee9c3"
      },
      "source": [
        "!python dataset.py"
      ],
      "execution_count": null,
      "outputs": [
        {
          "output_type": "stream",
          "name": "stdout",
          "text": [
            "python3: can't open file 'dataset.py': [Errno 2] No such file or directory\n"
          ]
        }
      ]
    },
    {
      "cell_type": "code",
      "metadata": {
        "id": "Y4XREhjxFZO3",
        "colab": {
          "base_uri": "https://localhost:8080/"
        },
        "outputId": "3019c44f-357e-4164-c3da-3ddf495be956"
      },
      "source": [
        "!python train.py"
      ],
      "execution_count": null,
      "outputs": [
        {
          "output_type": "stream",
          "name": "stdout",
          "text": [
            "100% 2301/2301 [02:48<00:00, 13.69batch/s, loss=1.55e+5]\n",
            "Traceback (most recent call last):\n",
            "  File \"train.py\", line 205, in <module>\n",
            "    train_acc = evaluate(train_loader)\n",
            "  File \"train.py\", line 175, in evaluate\n",
            "    return roc_auc_score(labels, predictions, multi_class='ovo')\n",
            "  File \"/usr/local/lib/python3.7/dist-packages/sklearn/metrics/_ranking.py\", line 580, in roc_auc_score\n",
            "    sample_weight=sample_weight,\n",
            "  File \"/usr/local/lib/python3.7/dist-packages/sklearn/metrics/_base.py\", line 77, in _average_binary_score\n",
            "    check_consistent_length(y_true, y_score, sample_weight)\n",
            "  File \"/usr/local/lib/python3.7/dist-packages/sklearn/utils/validation.py\", line 333, in check_consistent_length\n",
            "    % [int(l) for l in lengths]\n",
            "ValueError: Found input variables with inconsistent numbers of samples: [73601, 2301]\n"
          ]
        }
      ]
    },
    {
      "cell_type": "code",
      "metadata": {
        "colab": {
          "base_uri": "https://localhost:8080/"
        },
        "id": "TSf-5S6xUqmk",
        "outputId": "18f40c68-b05e-47fa-9d67-587eaad69190"
      },
      "source": [
        "import torch\n",
        "print(torch.__version__)"
      ],
      "execution_count": null,
      "outputs": [
        {
          "output_type": "stream",
          "name": "stdout",
          "text": [
            "1.10.0+cu111\n"
          ]
        }
      ]
    },
    {
      "cell_type": "code",
      "metadata": {
        "id": "eHDdh0c5ltIt"
      },
      "source": [
        "!rm -rf \"./dataset/processed/\""
      ],
      "execution_count": null,
      "outputs": []
    },
    {
      "cell_type": "code",
      "metadata": {
        "id": "TImoc7rc0BlB"
      },
      "source": [
        "!zip -rq data.zip dataset/processed/"
      ],
      "execution_count": null,
      "outputs": []
    }
  ]
}